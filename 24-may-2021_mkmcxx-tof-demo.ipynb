{
 "cells": [
  {
   "cell_type": "markdown",
   "metadata": {},
   "source": [
    "# 24 May 2021 - MKMCXX Demo"
   ]
  },
  {
   "cell_type": "markdown",
   "metadata": {},
   "source": [
    "- This is a short demo on how to use the Python interface to MKCMXX to create TOF plots and other contour plots."
   ]
  },
  {
   "cell_type": "code",
   "execution_count": null,
   "metadata": {},
   "outputs": [],
   "source": [
    "import os\n",
    "import glob\n",
    "import pickle\n",
    "import re\n",
    "import copy\n",
    "import datetime\n",
    "\n",
    "import numpy as np\n",
    "import matplotlib.pyplot as plt\n",
    "import pandas as pd\n",
    "\n",
    "import mkmcxx\n",
    "\n",
    "import tqdm\n",
    "import multiprocessing\n",
    "from ipywidgets import interact"
   ]
  },
  {
   "cell_type": "code",
   "execution_count": null,
   "metadata": {},
   "outputs": [],
   "source": [
    "# Other resources\n",
    "%load_ext blackcellmagic\n",
    "\n",
    "# Autoreload functionality for iterating on packages.\n",
    "# Uncomment if running cells gets too slow.\n",
    "%load_ext autoreload\n",
    "%autoreload 2"
   ]
  },
  {
   "cell_type": "markdown",
   "metadata": {},
   "source": [
    "Other utility functions:"
   ]
  },
  {
   "cell_type": "code",
   "execution_count": null,
   "metadata": {},
   "outputs": [],
   "source": [
    "def load_from_file(fname, module=pickle):\n",
    "    \"\"\"\n",
    "    Quick function to load an object from a file.\n",
    "\n",
    "    By default, use the pickle module.\n",
    "    \"\"\"\n",
    "\n",
    "    with open(fname, \"rb\") as f:\n",
    "        obj = module.load(f)\n",
    "\n",
    "    return obj\n",
    "\n",
    "\n",
    "def save_to_file(obj, fname, module=pickle):\n",
    "    \"\"\"\n",
    "    Quick function to save a single object to a file.\n",
    "\n",
    "    By default, use the pickle module.\n",
    "    \"\"\"\n",
    "\n",
    "    with open(fname, \"wb\") as f:\n",
    "        module.dump(obj, f)\n",
    "\n",
    "    return True"
   ]
  },
  {
   "cell_type": "code",
   "execution_count": null,
   "metadata": {},
   "outputs": [],
   "source": [
    "# Thanks to https://scentellegher.github.io/visualization/2018/05/02/custom-fonts-matplotlib.html\n",
    "# specify the custom font to use\n",
    "plt.rcParams[\"font.family\"] = \"sans-serif\"\n",
    "plt.rcParams[\"font.sans-serif\"] = \"Nimbus Sans,Arial\"\n",
    "plt.rcParams[\"mathtext.fontset\"] = \"custom\"\n",
    "plt.rcParams[\"font.size\"] = 22\n",
    "plt.rcParams[\"axes.linewidth\"] = 3\n",
    "plt.rcParams[\"axes.titlepad\"] = 15\n",
    "\n",
    "# Customize ticks\n",
    "plt.rcParams[\"xtick.bottom\"] = True\n",
    "plt.rcParams[\"xtick.top\"] = True\n",
    "plt.rcParams[\"xtick.direction\"] = \"in\"\n",
    "plt.rcParams[\"ytick.left\"] = True\n",
    "plt.rcParams[\"ytick.right\"] = True\n",
    "plt.rcParams[\"ytick.direction\"] = \"in\"\n",
    "plt.rcParams[\"xtick.major.size\"] = 6\n",
    "plt.rcParams[\"xtick.major.width\"] = 3\n",
    "plt.rcParams[\"ytick.major.size\"] = 6\n",
    "plt.rcParams[\"ytick.major.width\"] = 3"
   ]
  },
  {
   "cell_type": "markdown",
   "metadata": {},
   "source": [
    "## Basic MKMCXX simulation - Reversible surface isomerization"
   ]
  },
  {
   "cell_type": "code",
   "execution_count": null,
   "metadata": {},
   "outputs": [],
   "source": [
    "# First need to define species\n",
    "species = {\n",
    "    \"A\": mkmcxx.Compound(name=\"A\", is_site=False, start_conc=1.0, tdrc=False),\n",
    "    \"B\": mkmcxx.Compound(name=\"B\", is_site=False, start_conc=0, tdrc=False),\n",
    "    \"*\": mkmcxx.Compound(name=\"*\", is_site=True, start_conc=1.0, tdrc=False),\n",
    "    \"A*\": mkmcxx.Compound(name=\"A*\", is_site=True, start_conc=0, tdrc=False),\n",
    "    \"B*\": mkmcxx.Compound(name=\"B*\", is_site=True, start_conc=0, tdrc=False),\n",
    "}"
   ]
  },
  {
   "cell_type": "code",
   "execution_count": null,
   "metadata": {},
   "outputs": [],
   "source": [
    "# Also define reactions\n",
    "reactions = [\n",
    "    mkmcxx.HKReaction(\n",
    "        reactants={species[\"A\"]: 1, species[\"*\"]: 1},\n",
    "        products={species[\"A*\"]: 1},\n",
    "        m2=1e-27,\n",
    "        amu=1.4e1,\n",
    "        K=1.50,\n",
    "        sigma=2,\n",
    "        sticking=0.015,\n",
    "        jmol=150,\n",
    "        do_drc=True,\n",
    "    ),\n",
    "    mkmcxx.HKReaction(\n",
    "        reactants={species[\"B\"]: 1, species[\"*\"]: 1},\n",
    "        products={species[\"B*\"]: 1},\n",
    "        m2=1e-22,\n",
    "        amu=1.4e1,\n",
    "        K=2.87,\n",
    "        sigma=2,\n",
    "        sticking=0.015,\n",
    "        jmol=200,\n",
    "        do_drc=True,\n",
    "    ),\n",
    "    mkmcxx.ARReaction(\n",
    "        reactants={species[\"A*\"]: 1},\n",
    "        products={species[\"B*\"]: 1},\n",
    "        vf=1e13,\n",
    "        vb=1e13,\n",
    "        Eaf=100,\n",
    "        Eab=600,\n",
    "        do_drc=True,\n",
    "    ),\n",
    "]"
   ]
  },
  {
   "cell_type": "code",
   "execution_count": null,
   "metadata": {},
   "outputs": [],
   "source": [
    "# Define settings and sequence runs\n",
    "# See settings docs at https://wiki.mkmcxx.nl/index.php/Keywords_and_settings\n",
    "settings = {\n",
    "    \"type\": \"sequencerun\",    \n",
    "    \"abstol\": 1e-12, # Applies to all runs.\n",
    "    \"reltol\": 1e-12, # Applies to all runs.\n",
    "    \"reagents\": [\"A\", \"A*\", \"B*\", \"B\"],\n",
    "    \"keycomponents\": [\"A\",\"A*\", \"B*\", \"B\"],\n",
    "    # \"heatmap\": 1,\n",
    "    # \"npar\": 2,\n",
    "    \"orders\": 1,\n",
    "    \"drc\": 1,\n",
    "    # \"makeplots\": 0,\n",
    "    \"debug\": 1\n",
    "}\n",
    "\n",
    "# Want to do sequence runs at different temperatures\n",
    "# Temperatures in K, integration time in s.\n",
    "runs = [{\"temp\": temp, \"time\": 1e12} for temp in range(300, 1000, 100)]"
   ]
  },
  {
   "cell_type": "code",
   "execution_count": null,
   "metadata": {},
   "outputs": [],
   "source": [
    "# Create simulation object\n",
    "sim = mkmcxx.MicrokineticSimulation(\n",
    "    reactions=reactions,\n",
    "    settings=settings,\n",
    "    runs=runs,\n",
    "    restart=False,\n",
    "    directory=\"test-sim\",\n",
    ")"
   ]
  },
  {
   "cell_type": "code",
   "execution_count": null,
   "metadata": {},
   "outputs": [],
   "source": [
    "sim.write_input_files()"
   ]
  },
  {
   "cell_type": "code",
   "execution_count": null,
   "metadata": {},
   "outputs": [],
   "source": [
    "# Actually run simulations\n",
    "# You can leave out `args` if mkmcxx is on your $PATH\n",
    "returncode, stdout, error = sim.run(\n",
    "    args=\"/home/samueldy/software-images/mkmcxx_2.15.3.sif mkmcxx -i input.mkm\".split()\n",
    ")\n",
    "# print(stdout.decode())\n",
    "\n",
    "# You can also just do sim.write_input_files() to simply write out input folder."
   ]
  },
  {
   "cell_type": "code",
   "execution_count": null,
   "metadata": {},
   "outputs": [],
   "source": [
    "# Read results. Can do this without having called sim.run() first, which\n",
    "# enables reading of previously completed results.\n",
    "results = sim.read_results()"
   ]
  },
  {
   "cell_type": "code",
   "execution_count": null,
   "metadata": {},
   "outputs": [],
   "source": [
    "# Plot how rate of A consumption reaction changes as function of temperature\n",
    "results[\"range_results\"][\"rates\"].set_index(keys=\"Temperature\")[\"A + * -> A*\"].plot(\n",
    "    marker=\".\", markersize=20\n",
    ")"
   ]
  },
  {
   "cell_type": "code",
   "execution_count": null,
   "metadata": {},
   "outputs": [],
   "source": [
    "# Also look at how interconversion of A* and B* change with temperature\n",
    "results[\"range_results\"][\"rates\"].plot(\n",
    "    x=\"Temperature\", y=[\"A* -> B*\", \"A* <- B*\"], marker=\".\", markersize=10\n",
    ")"
   ]
  },
  {
   "cell_type": "markdown",
   "metadata": {},
   "source": [
    "## Integrate adsorbate scaling and BEP relationships"
   ]
  },
  {
   "cell_type": "markdown",
   "metadata": {},
   "source": [
    "- Let's say that A and B are intermediates in a reaction mechanism where the thermodynamic descriptors are O and N binding energy (EO and EN) and the applied potential U.\n",
    "- Now, the reaction set will change dynamically as a function of EO, EN, and U.\n",
    "- Define your reaction set with adsorbate scaling and BEP relationships that are functions of EO, EN, and U.\n",
    "- Then programmatically run a grid of simulations."
   ]
  },
  {
   "cell_type": "code",
   "execution_count": null,
   "metadata": {},
   "outputs": [],
   "source": [
    "# First need to define species\n",
    "species = {\n",
    "    \"A\": mkmcxx.Compound(name=\"A\", is_site=False, start_conc=1.0, tdrc=False),\n",
    "    \"B\": mkmcxx.Compound(name=\"B\", is_site=False, start_conc=0, tdrc=False),\n",
    "    \"*\": mkmcxx.Compound(name=\"*\", is_site=True, start_conc=1.0, tdrc=False),\n",
    "    \"A*\": mkmcxx.Compound(name=\"A*\", is_site=True, start_conc=0, tdrc=False),\n",
    "    \"B*\": mkmcxx.Compound(name=\"B*\", is_site=True, start_conc=0, tdrc=False),\n",
    "}"
   ]
  },
  {
   "cell_type": "markdown",
   "metadata": {},
   "source": [
    "### Generate reaction sets for each pair of binding energies"
   ]
  },
  {
   "cell_type": "code",
   "execution_count": null,
   "metadata": {},
   "outputs": [],
   "source": [
    "# Define your reaction set in terms of adsorption energies and an applied potential\n",
    "# You can see for yourself how the barriers and adsorption energies change\n",
    "@interact(EO=(-100, 5, 5), EN=(-100, 5, 5), U=(-0.5, 0.5, 0.1))\n",
    "def generate_reactions(EO: float, EN: float, U: float):\n",
    "    \"\"\"\n",
    "    EO and EN are adsorption energies of O and N, respectively, in kJ/mol.\n",
    "    U is the applied potential in V vs. SHE.\n",
    "    \"\"\"\n",
    "    reactions = [\n",
    "        mkmcxx.HKReaction(\n",
    "            reactants={species[\"A\"]: 1, species[\"*\"]: 1},\n",
    "            products={species[\"A*\"]: 1},\n",
    "            m2=1e-27,\n",
    "            amu=1.4e1,\n",
    "            K=1.50,\n",
    "            sigma=2,\n",
    "            sticking=0.015,\n",
    "            jmol=100 + 1.2 * EO - 1.0 * EN + 0.5 * U,\n",
    "            do_drc=True,\n",
    "        ),\n",
    "        mkmcxx.HKReaction(\n",
    "            reactants={species[\"B\"]: 1, species[\"*\"]: 1},\n",
    "            products={species[\"B*\"]: 1},\n",
    "            m2=1e-22,\n",
    "            amu=1.4e1,\n",
    "            K=2.87,\n",
    "            sigma=2,\n",
    "            sticking=0.015,\n",
    "            jmol=200 - 1.2 * EO + 1.2 * EN - 0.5 * U,\n",
    "            do_drc=True,\n",
    "        ),\n",
    "        mkmcxx.ARReaction(\n",
    "            reactants={species[\"A*\"]: 1},\n",
    "            products={species[\"B*\"]: 1},\n",
    "            vf=1e13,\n",
    "            vb=1e13,\n",
    "            Eaf=100 - 6.0 * EO + 7.5 * EN + 7 * U,\n",
    "            Eab=600 + 6.0 * EO - 2.5 * EN - 40 * U,\n",
    "            do_drc=True,\n",
    "        ),\n",
    "    ]\n",
    "    \n",
    "    return reactions"
   ]
  },
  {
   "cell_type": "code",
   "execution_count": null,
   "metadata": {},
   "outputs": [],
   "source": [
    "# Define grid of points over which we'll do the simulation in EO and EN space.\n",
    "# Assume that U = 0.05 V vs. SHE.\n",
    "binding_energy_range = np.arange(-100, 5, 5)  # kJ/mol\n",
    "EO_range = binding_energy_range\n",
    "EN_range = binding_energy_range  # Can be different than EO\n",
    "U = 0.05  # V vs. SHE\n",
    "\n",
    "grid_points = np.array([[EO, EN] for EO in EO_range for EN in EN_range])"
   ]
  },
  {
   "cell_type": "code",
   "execution_count": null,
   "metadata": {},
   "outputs": [],
   "source": [
    "# Show all the points being considered\n",
    "fig, ax = plt.subplots(1, 1, figsize=(8, 6))\n",
    "\n",
    "ax.plot(grid_points[:, 0], grid_points[:, 1], linestyle=\"\", marker=\".\")\n",
    "\n",
    "ax.set_xlabel(\"O binding energy [kJ/mol]\")\n",
    "ax.set_ylabel(\"N binding energy [kJ/mol]\")\n",
    "ax.set_title(\"Proposed grid points at which to calculate rates\")"
   ]
  },
  {
   "cell_type": "code",
   "execution_count": null,
   "metadata": {},
   "outputs": [],
   "source": [
    "# Filter out all the points that would lead to any negative Arrehenius barriers\n",
    "def all_AR_barriers_positive(EO, EN, U):\n",
    "    \"\"\"\n",
    "    Test if all barriers in the reaction set are positive\n",
    "    \"\"\"\n",
    "\n",
    "    reactions = generate_reactions(EO, EN, U)\n",
    "\n",
    "    # Stop as soon as we encounter barriers that are negative\n",
    "    for reaction in reactions:\n",
    "        if isinstance(reaction, mkmcxx.ARReaction):\n",
    "            if not (all([reaction.Eaf > 0, reaction.Eab > 0])):\n",
    "                return False\n",
    "\n",
    "    # If we got to this point, then all barriers are positive\n",
    "    return True"
   ]
  },
  {
   "cell_type": "code",
   "execution_count": null,
   "metadata": {},
   "outputs": [],
   "source": [
    "# Filter the list of grid points\n",
    "actual_grid_points = np.array(list(\n",
    "    filter(\n",
    "        lambda grid_point: all_AR_barriers_positive(\n",
    "            EO=grid_point[0], EN=grid_point[1], U=U\n",
    "        ),\n",
    "        grid_points,\n",
    "    )\n",
    "))"
   ]
  },
  {
   "cell_type": "code",
   "execution_count": null,
   "metadata": {},
   "outputs": [],
   "source": [
    "# Now show which grid points will actually be valid\n",
    "fig, ax = plt.subplots(1, 1, figsize=(8, 6))\n",
    "\n",
    "ax.plot(actual_grid_points[:, 0], actual_grid_points[:, 1], linestyle=\"\", marker=\".\")\n",
    "\n",
    "ax.set_xlabel(\"O binding energy [kJ/mol]\")\n",
    "ax.set_ylabel(\"N binding energy [kJ/mol]\")\n",
    "ax.set_title(\"Actual grid points to be used\")"
   ]
  },
  {
   "cell_type": "code",
   "execution_count": null,
   "metadata": {},
   "outputs": [],
   "source": [
    "# Generate dict of reaction sets with EO, EN, and U stored\n",
    "reaction_sets = [\n",
    "    {\n",
    "        \"EO\": EO,\n",
    "        \"EN\": EN,\n",
    "        \"U\": U,\n",
    "        \"reactions\": generate_reactions(EO=EO, EN=EN, U=U)\n",
    "    }\n",
    "    for EO, EN in actual_grid_points\n",
    "]"
   ]
  },
  {
   "cell_type": "markdown",
   "metadata": {},
   "source": [
    "### Generate microkinetic simulations"
   ]
  },
  {
   "cell_type": "markdown",
   "metadata": {},
   "source": [
    "- Now we need to generate a bunch of different simulations, one for each reaction set."
   ]
  },
  {
   "cell_type": "code",
   "execution_count": null,
   "metadata": {},
   "outputs": [],
   "source": [
    "# Define settings and sequence runs\n",
    "# See settings docs at https://wiki.mkmcxx.nl/index.php/Keywords_and_settings\n",
    "settings = {\n",
    "    \"type\": \"sequencerun\",    \n",
    "    \"abstol\": 1e-12,\n",
    "    \"reltol\": 1e-12,\n",
    "    \"reagents\": [\"A\", \"*\", \"A*\"],\n",
    "    \"keycomponents\": [\"A\", \"*\", \"A*\"],\n",
    "    # \"heatmap\": 1,\n",
    "    # \"npar\": 2,\n",
    "    # \"drc\": 1,\n",
    "    # \"makeplots\": 0,\n",
    "}\n",
    "\n",
    "# For now, let's just compare everything at a single temperature\n",
    "runs = [{\"temp\": 300, \"time\": 1e12}]"
   ]
  },
  {
   "cell_type": "code",
   "execution_count": null,
   "metadata": {},
   "outputs": [],
   "source": [
    "# Generate one simulation object per reaction set, keyed with the thermodynamic descriptors\n",
    "simulations = [\n",
    "    {\n",
    "        \"EO\": reaction_set[\"EO\"],\n",
    "        \"EN\": reaction_set[\"EN\"],\n",
    "        \"U\": reaction_set[\"U\"],\n",
    "        \"simulation\": mkmcxx.MicrokineticSimulation(\n",
    "            reactions=reaction_set[\"reactions\"],\n",
    "            settings=settings,\n",
    "            runs=runs,\n",
    "            directory=f\"\"\"EO-{reaction_set[\"EO\"]}_EN-{reaction_set[\"EN\"]}_U-{reaction_set[\"U\"]}\"\"\",\n",
    "        ),\n",
    "    }\n",
    "    for reaction_set in reaction_sets\n",
    "]"
   ]
  },
  {
   "cell_type": "code",
   "execution_count": null,
   "metadata": {},
   "outputs": [],
   "source": [
    "# Now run all them in parallel\n",
    "\n",
    "# Worker function (note: must put this in separate .py file and import if on Windows!!)\n",
    "def worker(simulation_item):\n",
    "\n",
    "    # Run the simulation object\n",
    "    simulation_item[\"simulation\"].run(\n",
    "        args=\"/home/samueldy/software-images/mkmcxx_2.15.3.sif mkmcxx -i input.mkm\".split()\n",
    "    )\n",
    "\n",
    "    # Add results into dict and return\n",
    "    simulation_item[\"results\"] = simulation_item[\"simulation\"].read_results()\n",
    "\n",
    "    return simulation_item\n",
    "\n",
    "\n",
    "# Adjust number of processes as necessary\n",
    "with multiprocessing.Pool(processes=6) as p:\n",
    "    results = list(tqdm.tqdm(p.imap(worker, simulations), total=len(simulations)))"
   ]
  },
  {
   "cell_type": "code",
   "execution_count": null,
   "metadata": {},
   "outputs": [],
   "source": [
    "# Cache simulations and results\n",
    "save_to_file(results, \"simulation_results.pckl\")"
   ]
  },
  {
   "cell_type": "markdown",
   "metadata": {},
   "source": [
    "### Read grid of results and make TOF plot"
   ]
  },
  {
   "cell_type": "markdown",
   "metadata": {},
   "source": [
    "- We want to make a TOF plot that is the consumption rate of A in solution.\n",
    "- So we'll extract this value from each simulation and make a contour plot."
   ]
  },
  {
   "cell_type": "code",
   "execution_count": null,
   "metadata": {},
   "outputs": [],
   "source": [
    "# Load in results\n",
    "results = load_from_file(\"simulation_results.pckl\")"
   ]
  },
  {
   "cell_type": "code",
   "execution_count": null,
   "metadata": {},
   "outputs": [],
   "source": [
    "# Need to extract just the conversion rate of A* to B*\n",
    "# Find this value in the results for each simulation, then aggregate across all simulations\n",
    "def read_tof_result(result_item):\n",
    "    \"\"\"\n",
    "    Given a single result item, extract just a single rate.\n",
    "    \"\"\"\n",
    "    \n",
    "    rate = result_item[\"results\"][\"range_results\"][\"rateslog\"][\"A* -> B*\"][0]\n",
    "    \n",
    "    simplified_result = {\n",
    "        \"EO\": result_item[\"EO\"],\n",
    "        \"EN\": result_item[\"EN\"],\n",
    "        \"rate\": rate\n",
    "    }\n",
    "\n",
    "    return simplified_result"
   ]
  },
  {
   "cell_type": "code",
   "execution_count": null,
   "metadata": {},
   "outputs": [],
   "source": [
    "simplified_results = pd.DataFrame(list(map(read_tof_result, results)))"
   ]
  },
  {
   "cell_type": "code",
   "execution_count": null,
   "metadata": {},
   "outputs": [],
   "source": [
    "simplified_results"
   ]
  },
  {
   "cell_type": "code",
   "execution_count": null,
   "metadata": {},
   "outputs": [],
   "source": [
    "# Now make a contour plot\n",
    "fig, ax = plt.subplots(1, 1, figsize=(8, 6))\n",
    "\n",
    "contourset = ax.tricontourf(\n",
    "    simplified_results[\"EO\"],\n",
    "    simplified_results[\"EN\"],\n",
    "    simplified_results[\"rate\"],\n",
    "    levels=40,\n",
    "    cmap=\"viridis\",\n",
    ")\n",
    "ax.set_title(fr\"\"\"Volcano plot: A* -> B* TOF\"\"\")\n",
    "ax.set_xlabel(\"O binding energy [kJ/mol]\")\n",
    "ax.set_ylabel(\"N binding energy [kJ/mol]\")\n",
    "\n",
    "# Add colorbar\n",
    "fig.colorbar(contourset, label=\"log10(rate)\")"
   ]
  },
  {
   "cell_type": "code",
   "execution_count": null,
   "metadata": {},
   "outputs": [],
   "source": []
  }
 ],
 "metadata": {
  "kernelspec": {
   "display_name": "Python [conda env:pt-ru-convex-hull]",
   "language": "python",
   "name": "pt-ru-convex-hull"
  },
  "language_info": {
   "codemirror_mode": {
    "name": "ipython",
    "version": 3
   },
   "file_extension": ".py",
   "mimetype": "text/x-python",
   "name": "python",
   "nbconvert_exporter": "python",
   "pygments_lexer": "ipython3",
   "version": "3.7.3"
  }
 },
 "nbformat": 4,
 "nbformat_minor": 4
}
